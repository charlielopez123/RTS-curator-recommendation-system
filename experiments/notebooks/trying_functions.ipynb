{
 "cells": [
  {
   "cell_type": "code",
   "execution_count": 1,
   "id": "45de6e16",
   "metadata": {},
   "outputs": [],
   "source": [
    "%load_ext autoreload\n",
    "%autoreload 2"
   ]
  },
  {
   "cell_type": "code",
   "execution_count": 4,
   "id": "6c242b7e",
   "metadata": {},
   "outputs": [],
   "source": [
    "from cts_recommender import logging_setup\n",
    "logging_setup.setup_logging('INFO')"
   ]
  },
  {
   "cell_type": "code",
   "execution_count": 8,
   "id": "81f39024",
   "metadata": {},
   "outputs": [
    {
     "name": "stderr",
     "output_type": "stream",
     "text": [
      "2025-09-24 16:50:29 INFO cts_recommender.preprocessing.X_ML_feature_processing: Index(['date', 'title', 'description', 'channel', 'start_time', 'class_key',\n",
      "       'rt_m', 'pdm', 'hour', 'weekday', 'is_weekend', 'duration_min',\n",
      "       'season', 'public_holiday'],\n",
      "      dtype='object')\n",
      "2025-09-24 16:50:29 INFO cts_recommender.preprocessing.X_ML_feature_processing: Index(['date', 'title', 'description', 'channel', 'start_time', 'class_key',\n",
      "       'rt_m', 'pdm', 'hour', 'weekday', 'is_weekend', 'duration_min',\n",
      "       'season', 'public_holiday'],\n",
      "      dtype='object')\n"
     ]
    },
    {
     "ename": "KeyError",
     "evalue": "'adult'",
     "output_type": "error",
     "traceback": [
      "\u001b[31m---------------------------------------------------------------------------\u001b[39m",
      "\u001b[31mKeyError\u001b[39m                                  Traceback (most recent call last)",
      "\u001b[36mFile \u001b[39m\u001b[32m~/Desktop/cts_movie_recommender_project/.venv/lib/python3.11/site-packages/pandas/core/indexes/base.py:3812\u001b[39m, in \u001b[36mIndex.get_loc\u001b[39m\u001b[34m(self, key)\u001b[39m\n\u001b[32m   3811\u001b[39m \u001b[38;5;28;01mtry\u001b[39;00m:\n\u001b[32m-> \u001b[39m\u001b[32m3812\u001b[39m     \u001b[38;5;28;01mreturn\u001b[39;00m \u001b[38;5;28;43mself\u001b[39;49m\u001b[43m.\u001b[49m\u001b[43m_engine\u001b[49m\u001b[43m.\u001b[49m\u001b[43mget_loc\u001b[49m\u001b[43m(\u001b[49m\u001b[43mcasted_key\u001b[49m\u001b[43m)\u001b[49m\n\u001b[32m   3813\u001b[39m \u001b[38;5;28;01mexcept\u001b[39;00m \u001b[38;5;167;01mKeyError\u001b[39;00m \u001b[38;5;28;01mas\u001b[39;00m err:\n",
      "\u001b[36mFile \u001b[39m\u001b[32mpandas/_libs/index.pyx:167\u001b[39m, in \u001b[36mpandas._libs.index.IndexEngine.get_loc\u001b[39m\u001b[34m()\u001b[39m\n",
      "\u001b[36mFile \u001b[39m\u001b[32mpandas/_libs/index.pyx:196\u001b[39m, in \u001b[36mpandas._libs.index.IndexEngine.get_loc\u001b[39m\u001b[34m()\u001b[39m\n",
      "\u001b[36mFile \u001b[39m\u001b[32mpandas/_libs/hashtable_class_helper.pxi:7088\u001b[39m, in \u001b[36mpandas._libs.hashtable.PyObjectHashTable.get_item\u001b[39m\u001b[34m()\u001b[39m\n",
      "\u001b[36mFile \u001b[39m\u001b[32mpandas/_libs/hashtable_class_helper.pxi:7096\u001b[39m, in \u001b[36mpandas._libs.hashtable.PyObjectHashTable.get_item\u001b[39m\u001b[34m()\u001b[39m\n",
      "\u001b[31mKeyError\u001b[39m: 'adult'",
      "\nThe above exception was the direct cause of the following exception:\n",
      "\u001b[31mKeyError\u001b[39m                                  Traceback (most recent call last)",
      "\u001b[36mCell\u001b[39m\u001b[36m \u001b[39m\u001b[32mIn[8]\u001b[39m\u001b[32m, line 11\u001b[39m\n\u001b[32m      4\u001b[39m cfg = get_settings()\n\u001b[32m      6\u001b[39m processed_df, enriched_df = X_ML_feature_processing.load_processed_and_enriched_programming(\n\u001b[32m      7\u001b[39m     data_path_processed=cfg.processed_dir / \u001b[33m\"\u001b[39m\u001b[33mprogramming.parquet\u001b[39m\u001b[33m\"\u001b[39m, \n\u001b[32m      8\u001b[39m     data_path_enriched=cfg.processed_dir / \u001b[33m\"\u001b[39m\u001b[33mprogramming_enriched.parquet\u001b[39m\u001b[33m\"\u001b[39m\n\u001b[32m      9\u001b[39m     )\n\u001b[32m---> \u001b[39m\u001b[32m11\u001b[39m full_df = \u001b[43mX_ML_feature_processing\u001b[49m\u001b[43m.\u001b[49m\u001b[43mbuild_X_features\u001b[49m\u001b[43m(\u001b[49m\u001b[43mprocessed_df\u001b[49m\u001b[43m,\u001b[49m\u001b[43m \u001b[49m\u001b[43menriched_df\u001b[49m\u001b[43m)\u001b[49m\n\u001b[32m     12\u001b[39m full_df.head()\n",
      "\u001b[36mFile \u001b[39m\u001b[32m~/Desktop/cts_movie_recommender_project/src/cts_recommender/preprocessing/X_ML_feature_processing.py:18\u001b[39m, in \u001b[36mbuild_X_features\u001b[39m\u001b[34m(processed_df, df_enriched)\u001b[39m\n\u001b[32m     16\u001b[39m \u001b[38;5;28;01mdef\u001b[39;00m\u001b[38;5;250m \u001b[39m\u001b[34mbuild_X_features\u001b[39m(processed_df: pd.DataFrame, df_enriched: pd.DataFrame) -> pd.DataFrame:\n\u001b[32m     17\u001b[39m \u001b[38;5;250m    \u001b[39m\u001b[33;03m\"\"\"\u001b[39;00m\n\u001b[32m---> \u001b[39m\u001b[32m18\u001b[39m \u001b[33;03m    Build the feature set X by merging the programming DataFrame with the enriched movie features DataFrame\u001b[39;00m\n\u001b[32m     19\u001b[39m \u001b[33;03m    \u001b[39;00m\n\u001b[32m     20\u001b[39m \u001b[33;03m    Parameters:\u001b[39;00m\n\u001b[32m     21\u001b[39m \u001b[33;03m    processed_df (pd.DataFrame): The preprocessed programming DataFrame.\u001b[39;00m\n\u001b[32m     22\u001b[39m \u001b[33;03m    df_enriched (pd.DataFrame): The enriched movie features DataFrame.\u001b[39;00m\n\u001b[32m     23\u001b[39m \u001b[33;03m    \u001b[39;00m\n\u001b[32m     24\u001b[39m \u001b[33;03m    Returns:\u001b[39;00m\n\u001b[32m     25\u001b[39m \u001b[33;03m    pd.DataFrame: The feature set X.\u001b[39;00m\n\u001b[32m     26\u001b[39m \u001b[33;03m\"\"\"\u001b[39;00m\n\u001b[32m     28\u001b[39m     \u001b[38;5;66;03m#Remove movies from processed_df\u001b[39;00m\n\u001b[32m     29\u001b[39m     \u001b[38;5;66;03m# --- make explicit copies before mutating to avoid SettingWithCopyWarning ---\u001b[39;00m\n\u001b[32m     30\u001b[39m     nonmovie_mask = ~processed_df[\u001b[33m'\u001b[39m\u001b[33mclass_key\u001b[39m\u001b[33m'\u001b[39m].isin(RTS_constants.ALL_MOVIE_CLASSKEYS)\n",
      "\u001b[36mFile \u001b[39m\u001b[32m~/Desktop/cts_movie_recommender_project/.venv/lib/python3.11/site-packages/pandas/core/frame.py:4107\u001b[39m, in \u001b[36mDataFrame.__getitem__\u001b[39m\u001b[34m(self, key)\u001b[39m\n\u001b[32m   4105\u001b[39m \u001b[38;5;28;01mif\u001b[39;00m \u001b[38;5;28mself\u001b[39m.columns.nlevels > \u001b[32m1\u001b[39m:\n\u001b[32m   4106\u001b[39m     \u001b[38;5;28;01mreturn\u001b[39;00m \u001b[38;5;28mself\u001b[39m._getitem_multilevel(key)\n\u001b[32m-> \u001b[39m\u001b[32m4107\u001b[39m indexer = \u001b[38;5;28;43mself\u001b[39;49m\u001b[43m.\u001b[49m\u001b[43mcolumns\u001b[49m\u001b[43m.\u001b[49m\u001b[43mget_loc\u001b[49m\u001b[43m(\u001b[49m\u001b[43mkey\u001b[49m\u001b[43m)\u001b[49m\n\u001b[32m   4108\u001b[39m \u001b[38;5;28;01mif\u001b[39;00m is_integer(indexer):\n\u001b[32m   4109\u001b[39m     indexer = [indexer]\n",
      "\u001b[36mFile \u001b[39m\u001b[32m~/Desktop/cts_movie_recommender_project/.venv/lib/python3.11/site-packages/pandas/core/indexes/base.py:3819\u001b[39m, in \u001b[36mIndex.get_loc\u001b[39m\u001b[34m(self, key)\u001b[39m\n\u001b[32m   3814\u001b[39m     \u001b[38;5;28;01mif\u001b[39;00m \u001b[38;5;28misinstance\u001b[39m(casted_key, \u001b[38;5;28mslice\u001b[39m) \u001b[38;5;129;01mor\u001b[39;00m (\n\u001b[32m   3815\u001b[39m         \u001b[38;5;28misinstance\u001b[39m(casted_key, abc.Iterable)\n\u001b[32m   3816\u001b[39m         \u001b[38;5;129;01mand\u001b[39;00m \u001b[38;5;28many\u001b[39m(\u001b[38;5;28misinstance\u001b[39m(x, \u001b[38;5;28mslice\u001b[39m) \u001b[38;5;28;01mfor\u001b[39;00m x \u001b[38;5;129;01min\u001b[39;00m casted_key)\n\u001b[32m   3817\u001b[39m     ):\n\u001b[32m   3818\u001b[39m         \u001b[38;5;28;01mraise\u001b[39;00m InvalidIndexError(key)\n\u001b[32m-> \u001b[39m\u001b[32m3819\u001b[39m     \u001b[38;5;28;01mraise\u001b[39;00m \u001b[38;5;167;01mKeyError\u001b[39;00m(key) \u001b[38;5;28;01mfrom\u001b[39;00m\u001b[38;5;250m \u001b[39m\u001b[34;01merr\u001b[39;00m\n\u001b[32m   3820\u001b[39m \u001b[38;5;28;01mexcept\u001b[39;00m \u001b[38;5;167;01mTypeError\u001b[39;00m:\n\u001b[32m   3821\u001b[39m     \u001b[38;5;66;03m# If we have a listlike key, _check_indexing_error will raise\u001b[39;00m\n\u001b[32m   3822\u001b[39m     \u001b[38;5;66;03m#  InvalidIndexError. Otherwise we fall through and re-raise\u001b[39;00m\n\u001b[32m   3823\u001b[39m     \u001b[38;5;66;03m#  the TypeError.\u001b[39;00m\n\u001b[32m   3824\u001b[39m     \u001b[38;5;28mself\u001b[39m._check_indexing_error(key)\n",
      "\u001b[31mKeyError\u001b[39m: 'adult'"
     ]
    }
   ],
   "source": [
    "from cts_recommender.preprocessing import X_ML_feature_processing\n",
    "from cts_recommender.settings import get_settings\n",
    "\n",
    "cfg = get_settings()\n",
    "\n",
    "processed_df, enriched_df = X_ML_feature_processing.load_processed_and_enriched_programming(\n",
    "    data_path_processed=cfg.processed_dir / \"programming.parquet\", \n",
    "    data_path_enriched=cfg.processed_dir / \"programming_enriched.parquet\"\n",
    "    )\n",
    "\n",
    "full_df = X_ML_feature_processing.build_X_features(processed_df, enriched_df)\n",
    "full_df.head()"
   ]
  },
  {
   "cell_type": "markdown",
   "id": "a0294559",
   "metadata": {},
   "source": []
  },
  {
   "cell_type": "code",
   "execution_count": null,
   "id": "b794f4cc",
   "metadata": {},
   "outputs": [],
   "source": [
    "from cts_recommender.preprocessing import movie_features\n",
    "from cts_recommender.settings import get_settings\n",
    "\n",
    "cfg = get_settings()\n",
    "df = movie_features.load_processed_programming(cfg.processed_dir / \"programming.parquet\")\n",
    "enriched_df = movie_features.enrich_programming_with_movie_metadata(df)\n",
    "enriched_df.head()"
   ]
  },
  {
   "cell_type": "code",
   "execution_count": 7,
   "id": "2646b421",
   "metadata": {},
   "outputs": [
    {
     "name": "stderr",
     "output_type": "stream",
     "text": [
      "2025-09-24 14:52:41 DEBUG urllib3.connectionpool: Starting new HTTPS connection (1): api.themoviedb.org:443\n",
      "2025-09-24 14:52:42 DEBUG urllib3.connectionpool: https://api.themoviedb.org:443 \"GET /3/search/movie?query=Inception&include_adult=true&language=fr HTTP/1.1\" 200 None\n",
      "2025-09-24 14:52:42 DEBUG cts_recommender.adapters.tmdb.tmdb: Found 10 results for title 'Inception'\n",
      "2025-09-24 14:52:42 DEBUG cts_recommender.adapters.tmdb.tmdb: length of results: 10\n"
     ]
    },
    {
     "data": {
      "text/plain": [
       "int"
      ]
     },
     "execution_count": 7,
     "metadata": {},
     "output_type": "execute_result"
    }
   ],
   "source": [
    "from cts_recommender.adapters.tmdb import tmdb\n",
    "tmdb_api = tmdb.TMDB_API()\n",
    "id = tmdb_api.find_best_match(\"Inception\", 148)\n",
    "type(id)"
   ]
  },
  {
   "cell_type": "code",
   "execution_count": null,
   "id": "ad33c288",
   "metadata": {},
   "outputs": [],
   "source": []
  }
 ],
 "metadata": {
  "kernelspec": {
   "display_name": "cts_movie_recommender_project",
   "language": "python",
   "name": "python3"
  },
  "language_info": {
   "codemirror_mode": {
    "name": "ipython",
    "version": 3
   },
   "file_extension": ".py",
   "mimetype": "text/x-python",
   "name": "python",
   "nbconvert_exporter": "python",
   "pygments_lexer": "ipython3",
   "version": "3.11.5"
  }
 },
 "nbformat": 4,
 "nbformat_minor": 5
}
