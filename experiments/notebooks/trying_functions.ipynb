{
 "cells": [
  {
   "cell_type": "code",
   "execution_count": 1,
   "id": "45de6e16",
   "metadata": {},
   "outputs": [],
   "source": [
    "%load_ext autoreload\n",
    "%autoreload 2"
   ]
  },
  {
   "cell_type": "code",
   "execution_count": 2,
   "id": "6c242b7e",
   "metadata": {},
   "outputs": [],
   "source": [
    "from cts_recommender import logging_setup\n",
    "logging_setup.setup_logging('INFO')"
   ]
  },
  {
   "cell_type": "code",
   "execution_count": null,
   "id": "81f39024",
   "metadata": {},
   "outputs": [],
   "source": [
    "from cts_recommender.preprocessing import ML_feature_processing\n",
    "from cts_recommender.settings import get_settings\n",
    "\n",
    "cfg = get_settings()\n",
    "\n",
    "processed_df, enriched_df = ML_feature_processing.load_processed_and_enriched_programming(\n",
    "    data_path_processed=cfg.processed_dir / \"programming.parquet\", \n",
    "    data_path_enriched=cfg.processed_dir / \"programming_enriched.parquet\"\n",
    "    )\n",
    "\n",
    "ML_df = ML_feature_processing.build_X_features(processed_df, enriched_df)\n"
   ]
  },
  {
   "cell_type": "code",
   "execution_count": 14,
   "id": "2a08e9e6",
   "metadata": {},
   "outputs": [],
   "source": [
    "import pandas as pd\n",
    "from cts_recommender.features.schemas import TARGET_FEATURE\n",
    "from sklearn.model_selection import train_test_split\n",
    "\n",
    "X = pd.get_dummies(ML_df.drop(columns=[TARGET_FEATURE]))\n",
    "y = ML_df[TARGET_FEATURE]\n",
    "\n",
    "# Random split of data movies and non-movies together\n",
    "X_train, X_test, y_train, y_test = train_test_split(X, y, test_size=0.1, random_state=42)"
   ]
  },
  {
   "cell_type": "code",
   "execution_count": 16,
   "id": "66e7f473",
   "metadata": {},
   "outputs": [
    {
     "data": {
      "text/plain": [
       "67"
      ]
     },
     "execution_count": 16,
     "metadata": {},
     "output_type": "execute_result"
    }
   ],
   "source": [
    "len(X_train.columns)"
   ]
  },
  {
   "cell_type": "code",
   "execution_count": null,
   "id": "d3f8cbc0",
   "metadata": {},
   "outputs": [],
   "source": []
  }
 ],
 "metadata": {
  "kernelspec": {
   "display_name": "RTS-curator-recommendation-system",
   "language": "python",
   "name": "python3"
  },
  "language_info": {
   "codemirror_mode": {
    "name": "ipython",
    "version": 3
   },
   "file_extension": ".py",
   "mimetype": "text/x-python",
   "name": "python",
   "nbconvert_exporter": "python",
   "pygments_lexer": "ipython3",
   "version": "3.12.11"
  }
 },
 "nbformat": 4,
 "nbformat_minor": 5
}
