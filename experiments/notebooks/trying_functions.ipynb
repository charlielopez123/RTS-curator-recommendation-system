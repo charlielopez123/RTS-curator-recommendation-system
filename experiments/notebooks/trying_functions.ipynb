{
 "cells": [
  {
   "cell_type": "code",
   "execution_count": 4,
   "id": "45de6e16",
   "metadata": {},
   "outputs": [
    {
     "name": "stdout",
     "output_type": "stream",
     "text": [
      "The autoreload extension is already loaded. To reload it, use:\n",
      "  %reload_ext autoreload\n"
     ]
    }
   ],
   "source": [
    "%load_ext autoreload\n",
    "%autoreload 2"
   ]
  },
  {
   "cell_type": "code",
   "execution_count": 7,
   "id": "6c242b7e",
   "metadata": {},
   "outputs": [],
   "source": [
    "from cts_recommender import logging_setup\n",
    "logging_setup.setup_logging('INFO')"
   ]
  },
  {
   "cell_type": "code",
   "execution_count": 8,
   "id": "81f39024",
   "metadata": {},
   "outputs": [
    {
     "name": "stderr",
     "output_type": "stream",
     "text": [
      "2025-09-25 15:18:33 INFO cts_recommender.preprocessing.X_ML_feature_processing: Index(['date', 'title', 'description', 'channel', 'start_time', 'class_key',\n",
      "       'rt_m', 'pdm', 'hour', 'weekday', 'is_weekend', 'duration_min',\n",
      "       'season', 'public_holiday'],\n",
      "      dtype='object')\n",
      "2025-09-25 15:18:33 INFO cts_recommender.preprocessing.X_ML_feature_processing: Index(['adult', 'channel', 'class_key', 'date', 'duration_min', 'genres',\n",
      "       'hour', 'is_weekend', 'missing_tmdb_id', 'original_language', 'pdm',\n",
      "       'popularity', 'processed_title', 'public_holiday', 'release_date',\n",
      "       'revenue', 'rt_m', 'season', 'start_time', 'title', 'tmdb_id',\n",
      "       'vote_average', 'weekday'],\n",
      "      dtype='object')\n"
     ]
    },
    {
     "data": {
      "application/vnd.microsoft.datawrangler.viewer.v0+json": {
       "columns": [
        {
         "name": "index",
         "rawType": "int64",
         "type": "integer"
        },
        {
         "name": "rt_m",
         "rawType": "float64",
         "type": "float"
        },
        {
         "name": "pdm",
         "rawType": "float64",
         "type": "float"
        },
        {
         "name": "hour",
         "rawType": "int64",
         "type": "integer"
        },
        {
         "name": "weekday",
         "rawType": "int64",
         "type": "integer"
        },
        {
         "name": "is_weekend",
         "rawType": "bool",
         "type": "boolean"
        },
        {
         "name": "duration_min",
         "rawType": "float64",
         "type": "float"
        },
        {
         "name": "season",
         "rawType": "object",
         "type": "string"
        },
        {
         "name": "public_holiday",
         "rawType": "bool",
         "type": "boolean"
        },
        {
         "name": "channel",
         "rawType": "object",
         "type": "string"
        },
        {
         "name": "class_key",
         "rawType": "object",
         "type": "string"
        },
        {
         "name": "original_language",
         "rawType": "object",
         "type": "string"
        },
        {
         "name": "popularity",
         "rawType": "float64",
         "type": "float"
        },
        {
         "name": "revenue",
         "rawType": "float64",
         "type": "float"
        },
        {
         "name": "vote_average",
         "rawType": "float64",
         "type": "float"
        },
        {
         "name": "adult",
         "rawType": "object",
         "type": "unknown"
        },
        {
         "name": "missing_release_date",
         "rawType": "bool",
         "type": "boolean"
        },
        {
         "name": "missing_tmdb",
         "rawType": "bool",
         "type": "boolean"
        },
        {
         "name": "is_movie",
         "rawType": "bool",
         "type": "boolean"
        }
       ],
       "ref": "dd70e98e-8e64-492a-9199-f23b435f6533",
       "rows": [
        [
         "1",
         "2.1",
         "7.2",
         "6",
         "0",
         "False",
         "10.566666666666666",
         "winter",
         "True",
         "RTS 1",
         "A",
         "unknown",
         "0.0",
         "0.0",
         "0.0",
         "False",
         "True",
         "True",
         "False"
        ],
        [
         "7",
         "2.0",
         "7.5",
         "6",
         "0",
         "False",
         "7.633333333333334",
         "winter",
         "True",
         "RTS 1",
         "A",
         "unknown",
         "0.0",
         "0.0",
         "0.0",
         "False",
         "True",
         "True",
         "False"
        ],
        [
         "13",
         "1.9",
         "6.7",
         "6",
         "0",
         "False",
         "7.466666666666667",
         "winter",
         "True",
         "RTS 1",
         "A",
         "unknown",
         "0.0",
         "0.0",
         "0.0",
         "False",
         "True",
         "True",
         "False"
        ],
        [
         "19",
         "2.5",
         "7.5",
         "6",
         "0",
         "False",
         "10.983333333333333",
         "winter",
         "True",
         "RTS 1",
         "A",
         "unknown",
         "0.0",
         "0.0",
         "0.0",
         "False",
         "True",
         "True",
         "False"
        ],
        [
         "25",
         "2.3",
         "5.5",
         "6",
         "0",
         "False",
         "11.0",
         "winter",
         "True",
         "RTS 1",
         "A",
         "unknown",
         "0.0",
         "0.0",
         "0.0",
         "False",
         "True",
         "True",
         "False"
        ]
       ],
       "shape": {
        "columns": 18,
        "rows": 5
       }
      },
      "text/html": [
       "<div>\n",
       "<style scoped>\n",
       "    .dataframe tbody tr th:only-of-type {\n",
       "        vertical-align: middle;\n",
       "    }\n",
       "\n",
       "    .dataframe tbody tr th {\n",
       "        vertical-align: top;\n",
       "    }\n",
       "\n",
       "    .dataframe thead th {\n",
       "        text-align: right;\n",
       "    }\n",
       "</style>\n",
       "<table border=\"1\" class=\"dataframe\">\n",
       "  <thead>\n",
       "    <tr style=\"text-align: right;\">\n",
       "      <th></th>\n",
       "      <th>rt_m</th>\n",
       "      <th>pdm</th>\n",
       "      <th>hour</th>\n",
       "      <th>weekday</th>\n",
       "      <th>is_weekend</th>\n",
       "      <th>duration_min</th>\n",
       "      <th>season</th>\n",
       "      <th>public_holiday</th>\n",
       "      <th>channel</th>\n",
       "      <th>class_key</th>\n",
       "      <th>original_language</th>\n",
       "      <th>popularity</th>\n",
       "      <th>revenue</th>\n",
       "      <th>vote_average</th>\n",
       "      <th>adult</th>\n",
       "      <th>missing_release_date</th>\n",
       "      <th>missing_tmdb</th>\n",
       "      <th>is_movie</th>\n",
       "    </tr>\n",
       "  </thead>\n",
       "  <tbody>\n",
       "    <tr>\n",
       "      <th>1</th>\n",
       "      <td>2.1</td>\n",
       "      <td>7.2</td>\n",
       "      <td>6</td>\n",
       "      <td>0</td>\n",
       "      <td>False</td>\n",
       "      <td>10.566667</td>\n",
       "      <td>winter</td>\n",
       "      <td>True</td>\n",
       "      <td>RTS 1</td>\n",
       "      <td>A</td>\n",
       "      <td>unknown</td>\n",
       "      <td>0.0</td>\n",
       "      <td>0.0</td>\n",
       "      <td>0.0</td>\n",
       "      <td>False</td>\n",
       "      <td>True</td>\n",
       "      <td>True</td>\n",
       "      <td>False</td>\n",
       "    </tr>\n",
       "    <tr>\n",
       "      <th>7</th>\n",
       "      <td>2.0</td>\n",
       "      <td>7.5</td>\n",
       "      <td>6</td>\n",
       "      <td>0</td>\n",
       "      <td>False</td>\n",
       "      <td>7.633333</td>\n",
       "      <td>winter</td>\n",
       "      <td>True</td>\n",
       "      <td>RTS 1</td>\n",
       "      <td>A</td>\n",
       "      <td>unknown</td>\n",
       "      <td>0.0</td>\n",
       "      <td>0.0</td>\n",
       "      <td>0.0</td>\n",
       "      <td>False</td>\n",
       "      <td>True</td>\n",
       "      <td>True</td>\n",
       "      <td>False</td>\n",
       "    </tr>\n",
       "    <tr>\n",
       "      <th>13</th>\n",
       "      <td>1.9</td>\n",
       "      <td>6.7</td>\n",
       "      <td>6</td>\n",
       "      <td>0</td>\n",
       "      <td>False</td>\n",
       "      <td>7.466667</td>\n",
       "      <td>winter</td>\n",
       "      <td>True</td>\n",
       "      <td>RTS 1</td>\n",
       "      <td>A</td>\n",
       "      <td>unknown</td>\n",
       "      <td>0.0</td>\n",
       "      <td>0.0</td>\n",
       "      <td>0.0</td>\n",
       "      <td>False</td>\n",
       "      <td>True</td>\n",
       "      <td>True</td>\n",
       "      <td>False</td>\n",
       "    </tr>\n",
       "    <tr>\n",
       "      <th>19</th>\n",
       "      <td>2.5</td>\n",
       "      <td>7.5</td>\n",
       "      <td>6</td>\n",
       "      <td>0</td>\n",
       "      <td>False</td>\n",
       "      <td>10.983333</td>\n",
       "      <td>winter</td>\n",
       "      <td>True</td>\n",
       "      <td>RTS 1</td>\n",
       "      <td>A</td>\n",
       "      <td>unknown</td>\n",
       "      <td>0.0</td>\n",
       "      <td>0.0</td>\n",
       "      <td>0.0</td>\n",
       "      <td>False</td>\n",
       "      <td>True</td>\n",
       "      <td>True</td>\n",
       "      <td>False</td>\n",
       "    </tr>\n",
       "    <tr>\n",
       "      <th>25</th>\n",
       "      <td>2.3</td>\n",
       "      <td>5.5</td>\n",
       "      <td>6</td>\n",
       "      <td>0</td>\n",
       "      <td>False</td>\n",
       "      <td>11.000000</td>\n",
       "      <td>winter</td>\n",
       "      <td>True</td>\n",
       "      <td>RTS 1</td>\n",
       "      <td>A</td>\n",
       "      <td>unknown</td>\n",
       "      <td>0.0</td>\n",
       "      <td>0.0</td>\n",
       "      <td>0.0</td>\n",
       "      <td>False</td>\n",
       "      <td>True</td>\n",
       "      <td>True</td>\n",
       "      <td>False</td>\n",
       "    </tr>\n",
       "  </tbody>\n",
       "</table>\n",
       "</div>"
      ],
      "text/plain": [
       "    rt_m  pdm  hour  weekday  is_weekend  duration_min  season  \\\n",
       "1    2.1  7.2     6        0       False     10.566667  winter   \n",
       "7    2.0  7.5     6        0       False      7.633333  winter   \n",
       "13   1.9  6.7     6        0       False      7.466667  winter   \n",
       "19   2.5  7.5     6        0       False     10.983333  winter   \n",
       "25   2.3  5.5     6        0       False     11.000000  winter   \n",
       "\n",
       "    public_holiday channel class_key original_language  popularity  revenue  \\\n",
       "1             True   RTS 1         A           unknown         0.0      0.0   \n",
       "7             True   RTS 1         A           unknown         0.0      0.0   \n",
       "13            True   RTS 1         A           unknown         0.0      0.0   \n",
       "19            True   RTS 1         A           unknown         0.0      0.0   \n",
       "25            True   RTS 1         A           unknown         0.0      0.0   \n",
       "\n",
       "    vote_average  adult  missing_release_date  missing_tmdb  is_movie  \n",
       "1            0.0  False                  True          True     False  \n",
       "7            0.0  False                  True          True     False  \n",
       "13           0.0  False                  True          True     False  \n",
       "19           0.0  False                  True          True     False  \n",
       "25           0.0  False                  True          True     False  "
      ]
     },
     "execution_count": 8,
     "metadata": {},
     "output_type": "execute_result"
    }
   ],
   "source": [
    "from cts_recommender.preprocessing import X_ML_feature_processing\n",
    "from cts_recommender.settings import get_settings\n",
    "\n",
    "cfg = get_settings()\n",
    "\n",
    "processed_df, enriched_df = X_ML_feature_processing.load_processed_and_enriched_programming(\n",
    "    data_path_processed=cfg.processed_dir / \"programming.parquet\", \n",
    "    data_path_enriched=cfg.processed_dir / \"programming_enriched.parquet\"\n",
    "    )\n",
    "\n",
    "full_df = X_ML_feature_processing.build_X_features(processed_df, enriched_df)\n",
    "full_df.head()"
   ]
  },
  {
   "cell_type": "markdown",
   "id": "a0294559",
   "metadata": {},
   "source": []
  },
  {
   "cell_type": "code",
   "execution_count": null,
   "id": "b794f4cc",
   "metadata": {},
   "outputs": [],
   "source": [
    "from cts_recommender.preprocessing import movie_features\n",
    "from cts_recommender.settings import get_settings\n",
    "\n",
    "cfg = get_settings()\n",
    "df = movie_features.load_processed_programming(cfg.processed_dir / \"programming.parquet\")\n",
    "enriched_df = movie_features.enrich_programming_with_movie_metadata(df)\n",
    "enriched_df.head()"
   ]
  },
  {
   "cell_type": "code",
   "execution_count": 7,
   "id": "2646b421",
   "metadata": {},
   "outputs": [
    {
     "name": "stderr",
     "output_type": "stream",
     "text": [
      "2025-09-24 14:52:41 DEBUG urllib3.connectionpool: Starting new HTTPS connection (1): api.themoviedb.org:443\n",
      "2025-09-24 14:52:42 DEBUG urllib3.connectionpool: https://api.themoviedb.org:443 \"GET /3/search/movie?query=Inception&include_adult=true&language=fr HTTP/1.1\" 200 None\n",
      "2025-09-24 14:52:42 DEBUG cts_recommender.adapters.tmdb.tmdb: Found 10 results for title 'Inception'\n",
      "2025-09-24 14:52:42 DEBUG cts_recommender.adapters.tmdb.tmdb: length of results: 10\n"
     ]
    },
    {
     "data": {
      "text/plain": [
       "int"
      ]
     },
     "execution_count": 7,
     "metadata": {},
     "output_type": "execute_result"
    }
   ],
   "source": [
    "from cts_recommender.adapters.tmdb import tmdb\n",
    "tmdb_api = tmdb.TMDB_API()\n",
    "id = tmdb_api.find_best_match(\"Inception\", 148)\n",
    "type(id)"
   ]
  },
  {
   "cell_type": "code",
   "execution_count": null,
   "id": "ad33c288",
   "metadata": {},
   "outputs": [],
   "source": []
  }
 ],
 "metadata": {
  "kernelspec": {
   "display_name": "RTS-curator-recommendation-system",
   "language": "python",
   "name": "python3"
  },
  "language_info": {
   "codemirror_mode": {
    "name": "ipython",
    "version": 3
   },
   "file_extension": ".py",
   "mimetype": "text/x-python",
   "name": "python",
   "nbconvert_exporter": "python",
   "pygments_lexer": "ipython3",
   "version": "3.12.11"
  }
 },
 "nbformat": 4,
 "nbformat_minor": 5
}
