{
 "cells": [
  {
   "cell_type": "code",
   "execution_count": 1,
   "id": "773853ed",
   "metadata": {},
   "outputs": [],
   "source": [
    "%load_ext autoreload\n",
    "%autoreload 2 "
   ]
  },
  {
   "cell_type": "markdown",
   "id": "b6872b70",
   "metadata": {},
   "source": [
    "## Imports"
   ]
  },
  {
   "cell_type": "code",
   "execution_count": null,
   "id": "f117ac32",
   "metadata": {},
   "outputs": [],
   "source": [
    "from cts_recommender.settings import get_settings\n",
    "from cts_recommender.io import readers\n",
    "\n",
    "cfg = get_settings()"
   ]
  },
  {
   "cell_type": "markdown",
   "id": "e51bdb74",
   "metadata": {},
   "source": [
    "## Open Data"
   ]
  },
  {
   "cell_type": "code",
   "execution_count": null,
   "id": "0c9cc422",
   "metadata": {},
   "outputs": [],
   "source": [
    "catalog_df = readers.read_parquet(cfg.processed_dir / \"whatson_catalog_df.parquet\")"
   ]
  }
 ],
 "metadata": {
  "kernelspec": {
   "display_name": "RTS-curator-recommendation-system",
   "language": "python",
   "name": "python3"
  },
  "language_info": {
   "codemirror_mode": {
    "name": "ipython",
    "version": 3
   },
   "file_extension": ".py",
   "mimetype": "text/x-python",
   "name": "python",
   "nbconvert_exporter": "python",
   "pygments_lexer": "ipython3",
   "version": "3.12.11"
  }
 },
 "nbformat": 4,
 "nbformat_minor": 5
}
