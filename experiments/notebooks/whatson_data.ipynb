{
 "cells": [
  {
   "cell_type": "code",
   "execution_count": 2,
   "id": "09eaa72d",
   "metadata": {},
   "outputs": [],
   "source": [
    "%load_ext autoreload\n",
    "%autoreload 2"
   ]
  },
  {
   "cell_type": "code",
   "execution_count": 11,
   "id": "76379021",
   "metadata": {},
   "outputs": [],
   "source": [
    "from cts_recommender.io import readers\n",
    "from cts_recommender.settings import get_settings\n",
    "from cts_recommender.features.whatson_csv_schema import ORIGINAL_WHATSON_COLUMNS\n",
    "cfg = get_settings()\n",
    "\n",
    "whatson_df = readers.read_csv(cfg.raw_dir /\"original_raw_whatson.csv\", sep='\\t')"
   ]
  },
  {
   "cell_type": "code",
   "execution_count": 12,
   "id": "af3cdcde",
   "metadata": {},
   "outputs": [],
   "source": [
    "assert whatson_df.columns.tolist() == ORIGINAL_WHATSON_COLUMNS"
   ]
  },
  {
   "cell_type": "code",
   "execution_count": null,
   "id": "64ecf84c",
   "metadata": {},
   "outputs": [],
   "source": []
  }
 ],
 "metadata": {
  "kernelspec": {
   "display_name": "RTS-curator-recommendation-system",
   "language": "python",
   "name": "python3"
  },
  "language_info": {
   "codemirror_mode": {
    "name": "ipython",
    "version": 3
   },
   "file_extension": ".py",
   "mimetype": "text/x-python",
   "name": "python",
   "nbconvert_exporter": "python",
   "pygments_lexer": "ipython3",
   "version": "3.12.11"
  }
 },
 "nbformat": 4,
 "nbformat_minor": 5
}
